{
  "cells": [
    {
      "cell_type": "code",
      "execution_count": null,
      "id": "19d43007-6ffd-4f49-8e3a-d05ddff15f31",
      "metadata": {
        "id": "19d43007-6ffd-4f49-8e3a-d05ddff15f31"
      },
      "outputs": [],
      "source": [
        "import numpy as np\n",
        "import matplotlib.pyplot as plt\n",
        "import pandas as pd\n",
        "from scipy.stats import dunnett"
      ]
    },
    {
      "cell_type": "code",
      "execution_count": null,
      "id": "17027da7-412c-4088-9632-b4453b97a9dc",
      "metadata": {
        "id": "17027da7-412c-4088-9632-b4453b97a9dc"
      },
      "outputs": [],
      "source": [
        "data1 = np.random.rand(10)\n",
        "data2 = np.random.rand(10)\n",
        "data3 = data1\n",
        "#data = np.stack([data1, data2, data3])"
      ]
    },
    {
      "cell_type": "code",
      "execution_count": null,
      "id": "ce3bbf6d-0248-4d5a-a55d-df2f4dfa3aa5",
      "metadata": {
        "id": "ce3bbf6d-0248-4d5a-a55d-df2f4dfa3aa5",
        "outputId": "5ee1ff98-b8ba-4f8d-c9cd-c160d9978713"
      },
      "outputs": [
        {
          "data": {
            "text/plain": [
              "array([0.6310905, 1.       ])"
            ]
          },
          "execution_count": 11,
          "metadata": {},
          "output_type": "execute_result"
        }
      ],
      "source": [
        "res = dunnett(data2, data3, control=data1)\n",
        "res.pvalue"
      ]
    },
    {
      "cell_type": "code",
      "execution_count": null,
      "id": "eec6fd3c-9628-468a-bf33-2b22d1010dcd",
      "metadata": {
        "id": "eec6fd3c-9628-468a-bf33-2b22d1010dcd",
        "outputId": "de84951e-5221-437d-e1ca-1c9cad9108b6"
      },
      "outputs": [
        {
          "data": {
            "image/png": "[encoded data removed]",
            "text/plain": [
              "<Figure size 640x480 with 1 Axes>"
            ]
          },
          "metadata": {},
          "output_type": "display_data"
        }
      ],
      "source": [
        "import matplotlib.pyplot as plt\n",
        "import seaborn as sns\n",
        "sns.set()\n",
        "\n",
        "fig, ax = plt.subplots(1, 1)\n",
        "sns.boxplot([data1, data2, data3])\n",
        "ax.set_xticklabels([\"datal\", \"data2\", \"data3\"])\n",
        "ax.set_ylabel(\"mean\")\n",
        "plt.show()\n"
      ]
    },
    {
      "cell_type": "code",
      "execution_count": null,
      "id": "7fb325d6-5147-4d9e-8eb8-f0113dc4cef4",
      "metadata": {
        "id": "7fb325d6-5147-4d9e-8eb8-f0113dc4cef4"
      },
      "outputs": [],
      "source": []
    }
  ],
  "metadata": {
    "kernelspec": {
      "display_name": "Python 3 (ipykernel)",
      "language": "python",
      "name": "python3"
    },
    "language_info": {
      "codemirror_mode": {
        "name": "ipython",
        "version": 3
      },
      "file_extension": ".py",
      "mimetype": "text/x-python",
      "name": "python",
      "nbconvert_exporter": "python",
      "pygments_lexer": "ipython3",
      "version": "3.11.5"
    },
    "colab": {
      "provenance": []
    }
  },
  "nbformat": 4,
  "nbformat_minor": 5
}